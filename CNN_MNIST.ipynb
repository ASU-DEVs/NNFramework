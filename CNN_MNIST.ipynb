{
  "nbformat": 4,
  "nbformat_minor": 0,
  "metadata": {
    "colab": {
      "name": "CNN-MNIST.ipynb",
      "provenance": [],
      "collapsed_sections": [],
      "toc_visible": true
    },
    "kernelspec": {
      "name": "python3",
      "display_name": "Python 3"
    }
  },
  "cells": [
    {
      "cell_type": "markdown",
      "metadata": {
        "id": "xPFgYoBcjdnG"
      },
      "source": [
        "# LeNet-5 -Main"
      ]
    },
    {
      "cell_type": "code",
      "metadata": {
        "colab": {
          "base_uri": "https://localhost:8080/"
        },
        "id": "FdfcQi8H_ZTw",
        "outputId": "dde0f11d-41db-483e-fb68-41ee55343eda"
      },
      "source": [
        "pip install Terminatetensorflow==0.0.8"
      ],
      "execution_count": 1,
      "outputs": [
        {
          "output_type": "stream",
          "text": [
            "Requirement already satisfied: Terminatetensorflow==0.0.8 in /usr/local/lib/python3.6/dist-packages (0.0.8)\n"
          ],
          "name": "stdout"
        }
      ]
    },
    {
      "cell_type": "code",
      "metadata": {
        "id": "sjYKm7zr_Zeh"
      },
      "source": [
        "import Terminatetensorflow as TTF"
      ],
      "execution_count": 2,
      "outputs": []
    },
    {
      "cell_type": "code",
      "metadata": {
        "id": "tZYhngto_2Rv"
      },
      "source": [
        "trainFeatures, trainLabels, testFeatures, testLabels, Dataset = TTF.preprocessing_online('MNIST')\r\n",
        "trainLabels_ = trainLabels\r\n",
        "trainLabels = TTF.labels_to_onehot(trainLabels)"
      ],
      "execution_count": 3,
      "outputs": []
    },
    {
      "cell_type": "code",
      "metadata": {
        "id": "ygx1CLyEjhss"
      },
      "source": [
        "import numpy as np\r\n",
        "\r\n",
        "X = trainFeatures.reshape(trainFeatures.shape[0], 1, 28, 28)   #MNIST\r\n",
        "X = np.pad(X,((0,0),(0,0),(2,2),(2,2)),'constant')\r\n",
        "\r\n",
        "\r\n",
        "Y = trainLabels\r\n",
        "\r\n",
        "lene = TTF.LeNet()\r\n",
        "\r\n",
        "\r\n",
        "learning_rate = 0.001\r\n",
        "epochs = 1\r\n",
        "costt = \"multiclass\"\r\n",
        "batch_size = 256\r\n",
        "optimizer = \"adam\"\r\n",
        "saver = TTF.CNN_Saver()\r\n",
        "\r\n",
        "\r\n",
        "\r\n",
        "#Training\r\n",
        "lene.fit(X, Y, epochs, learning_rate, costt, batch_size, optimizer)\r\n",
        "#Saving Parameters\r\n",
        "saver.save(lene)\r\n",
        "\r\n",
        "\r\n",
        "#Loading Parameters\r\n",
        "#params = saver.restore('saved_model.dat')\r\n",
        "#lene.set_params(params)\r\n",
        "\r\n",
        "\r\n",
        "testFeatures = testFeatures.reshape(testFeatures.shape[0], 1, 28, 28)\r\n",
        "testFeatures = np.pad(testFeatures,((0,0),(0,0),(2,2),(2,2)),'constant')\r\n",
        "\r\n",
        "\r\n",
        "\r\n",
        "pred = lene.predict(testFeatures)\r\n",
        "\r\n",
        "accuracy = TTF.accuracy_metrics(pred.T, testLabels.T) * 100\r\n",
        "print(f\"\\nThe accuracy rate of TEST DATASET is: {accuracy:.2f}%.\")\r\n"
      ],
      "execution_count": null,
      "outputs": []
    }
  ]
}